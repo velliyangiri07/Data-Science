{
 "cells": [
  {
   "cell_type": "code",
   "execution_count": 1,
   "id": "94429fd8-fa65-4c73-9039-f1886ac48041",
   "metadata": {},
   "outputs": [],
   "source": [
    "import pandas as pd\n",
    "from sklearn.metrics.pairwise import cosine_similarity\n",
    "from sklearn.preprocessing import StandardScaler\n",
    "import numpy as np\n",
    "\n",
    "# Load data\n",
    "customers = pd.read_csv('Customers.csv')\n",
    "transactions = pd.read_csv('Transactions.csv')\n",
    "products = pd.read_csv('Products.csv')\n",
    "\n",
    "customer_transactions = pd.merge(customers, transactions, on='CustomerID', how='left')\n",
    "\n",
    "customer_features = customer_transactions.groupby('CustomerID').agg({\n",
    "    'TotalValue': 'sum', \n",
    "    'ProductID': 'nunique', \n",
    "    'TransactionDate': 'count'\n",
    "}).reset_index()\n",
    "\n",
    "\n",
    "scaler = StandardScaler()\n",
    "customer_features_scaled = scaler.fit_transform(customer_features[['TotalValue', 'ProductID', 'TransactionDate']])\n",
    "\n",
    "similarity_matrix = cosine_similarity(customer_features_scaled)\n",
    "\n",
    "lookalike_map = {}\n",
    "for i in range(20):\n",
    "    similarity_scores = similarity_matrix[i]\n",
    "    similar_customers = np.argsort(similarity_scores)[::-1][1:4]  # Top 3 excluding self\n",
    "    lookalike_map[customers['CustomerID'][i]] = [\n",
    "        (customers['CustomerID'][j], similarity_scores[j]) for j in similar_customers\n",
    "    ]\n",
    "\n",
    "lookalike_df = pd.DataFrame([(cust_id, sim_cust, score) \n",
    "                             for cust_id, similar_customers in lookalike_map.items() \n",
    "                             for sim_cust, score in similar_customers],\n",
    "                            columns=['CustomerID', 'LookalikeID', 'SimilarityScore'])\n",
    "\n",
    "lookalike_df.to_csv('Lookalike.csv', index=False)\n"
   ]
  },
  {
   "cell_type": "code",
   "execution_count": null,
   "id": "c780b838-dd4e-4c73-abb3-d5ff3fa2b119",
   "metadata": {},
   "outputs": [],
   "source": []
  },
  {
   "cell_type": "code",
   "execution_count": null,
   "id": "8d7aa1d0-a0b2-43fa-a346-ecc807890e69",
   "metadata": {},
   "outputs": [],
   "source": []
  }
 ],
 "metadata": {
  "kernelspec": {
   "display_name": "Python 3 (ipykernel)",
   "language": "python",
   "name": "python3"
  },
  "language_info": {
   "codemirror_mode": {
    "name": "ipython",
    "version": 3
   },
   "file_extension": ".py",
   "mimetype": "text/x-python",
   "name": "python",
   "nbconvert_exporter": "python",
   "pygments_lexer": "ipython3",
   "version": "3.12.7"
  }
 },
 "nbformat": 4,
 "nbformat_minor": 5
}
